{
 "cells": [
  {
   "cell_type": "code",
   "execution_count": null,
   "metadata": {},
   "outputs": [],
   "source": [
    "import sqlite3\n",
    "from sqlite3 import Error\n",
    "import pandas as pd\n",
    "import numpy as np\n",
    "import csv\n",
    "import requests\n",
    "import os\n",
    "\n",
    "#Muda o diretório de trabalho\n",
    "print(os.getcwd())\n",
    "workdir_path = 'D:\\PainelTelefonia\\ETL'\n",
    "os.chdir(workdir_path)\n",
    "print(os.getcwd())#Muda o diretório de trabalho\n",
    "print(os.getcwd())\n",
    "workdir_path = 'D:\\PainelTelefonia\\ETL'\n",
    "os.chdir(workdir_path)\n",
    "print(os.getcwd())"
   ]
  },
  {
   "cell_type": "markdown",
   "metadata": {},
   "source": [
    "###  Ramais IP"
   ]
  },
  {
   "cell_type": "markdown",
   "metadata": {},
   "source": [
    "#### Identifica os dispositivos VoIP"
   ]
  },
  {
   "cell_type": "code",
   "execution_count": null,
   "metadata": {},
   "outputs": [],
   "source": [
    "# Consulta ao banco SQLite\n",
    "databaseCL1 = 'cluster01_2021_09_05.db3'\n",
    "try:\n",
    "    conn1 = sqlite3.connect(databaseCL1)\n",
    "except Error as e:\n",
    "    print(e)\n",
    "registered = pd.read_sql_query(\"SELECT IP,DN,UserAgent,LastRegister FROM EndPoints\", conn1)\n",
    "registered = dfCL1.groupby(['UserAgent','DN']).tail(1)\n",
    "conn1.close()"
   ]
  },
  {
   "cell_type": "markdown",
   "metadata": {},
   "source": [
    "#### Identifica os tipos de dispositivos"
   ]
  },
  {
   "cell_type": "code",
   "execution_count": null,
   "metadata": {},
   "outputs": [],
   "source": [
    "#Categoriza por dispositivo\n",
    "registered['DISPOSITIVO'] = pd.np.where(registered.UserAgent.str.contains(\"Aparelho IP Tipo I\"), \"Aparelho IP Tipo I\",\n",
    "                                pd.np.where(registered.UserAgent.str.contains(\"Aparelho IP Tipo II\"), \"Aparelho IP Tipo II\",\n",
    "                                pd.np.where(registered.UserAgent.str.contains(\"Aparelho IP Tipo III\"), \"Aparelho IP Tipo III\",\n",
    "                                pd.np.where(registered.UserAgent.str.contains(\"Softphone Tipo I\"), \"Softphone Tipo I\",\n",
    "                                pd.np.where(registered.UserAgent.str.contains(\"Softphone Tipo II\"), \"Softphone Tipo II\",\n",
    "                                pd.np.where(registered.UserAgent.str.contains(\"Aparelho Analogico\"), \"Aparelho Analogico\",\n",
    "                                pd.np.where(registered.UserAgent.str.contains(\"Aparelho Digital\"), \"Aparelho Digital\", \"Outros\")))))))\n",
    "\n",
    "registered = registered.groupby(['DISPOSITIVO','DN']).tail(1)"
   ]
  },
  {
   "cell_type": "markdown",
   "metadata": {},
   "source": [
    "#### Limpeza dos dados "
   ]
  },
  {
   "cell_type": "code",
   "execution_count": null,
   "metadata": {},
   "outputs": [],
   "source": [
    "#Elimina linhas com dados nulos\n",
    "registered.dropna(inplace=True)\n",
    "#Elimina linhas com valores diferentes de um IP no campo IP\n",
    "registered = registered[(registered['IP'].str.len() <= 15.0)&(registered['IP'].str.startswith('1'))].copy()"
   ]
  },
  {
   "cell_type": "markdown",
   "metadata": {},
   "source": [
    "#### Identifica a estação"
   ]
  },
  {
   "cell_type": "code",
   "execution_count": null,
   "metadata": {},
   "outputs": [],
   "source": [
    "import requests\n",
    "\n",
    "registered['ESTACAO']=\"\"\n",
    "\n",
    "#consulta uma aplicação que fornece a localidade com base no IP informado\n",
    "for index, row in registered.iterrows():\n",
    "    \n",
    "    print(index)\n",
    "    ip = row['IP']\n",
    "    response = requests.get('http://127.0.0.1:5000/getsite/' + str(ip))\n",
    "    site = response.text.replace('\"','').rstrip()\n",
    "    registered.loc[index,'ESTACAO'] = site"
   ]
  },
  {
   "cell_type": "markdown",
   "metadata": {},
   "source": [
    "#### Ramais IP distintos"
   ]
  },
  {
   "cell_type": "code",
   "execution_count": null,
   "metadata": {},
   "outputs": [],
   "source": [
    "# Agragação da quantidade de ramais IP distintos por estação\n",
    "ramaisIPdistintos = registered.groupby(['DN']).tail(1)\n",
    "ramais_IP_distintos_agreg = ramaisIPdistintos.groupby(['ESTACAO'])['DN'].nunique().reset_index(name='QUANTIDADE')"
   ]
  },
  {
   "cell_type": "markdown",
   "metadata": {},
   "source": [
    "#### Dispositivos IP distintos"
   ]
  },
  {
   "cell_type": "code",
   "execution_count": null,
   "metadata": {},
   "outputs": [],
   "source": [
    "# Agregação da quantidade de dispositivos IP distintos por estação\n",
    "ramais_ip_agreg = registered.groupby(['ESTACAO','DISPOSITIVO'])['DN'].nunique().reset_index(name='QUANTIDADE')"
   ]
  },
  {
   "cell_type": "markdown",
   "metadata": {},
   "source": [
    "### Ramais TDM"
   ]
  },
  {
   "cell_type": "code",
   "execution_count": null,
   "metadata": {},
   "outputs": [],
   "source": [
    "#Coleta dados dos ramais TDM do banco Oracle\n",
    "import cx_Oracle\n",
    "dsn_tns = cx_Oracle.makedsn('servidor', '1000', service_name='tele') \n",
    "connection = cx_Oracle.connect(user='usuario', password='password', dsn=dsn_tns) # cria conexao\n",
    "cursor = connection.cursor() # cria um cursor\n",
    "\n",
    "query = \"\"\"SELECT\n",
    "               RAMAL,\n",
    "               DISPOSITIVO,\n",
    "               ESTACAO,\n",
    "           FROM basetdm\"\"\"\n",
    "\n",
    "ramais_tdm = pd.read_sql(query, con=connection)\n",
    "\n",
    "cursor.close()\n",
    "connection.close()"
   ]
  },
  {
   "cell_type": "code",
   "execution_count": null,
   "metadata": {},
   "outputs": [],
   "source": [
    "#Agrega por DISPOSITIVO e conta a quantidade de ramais\n",
    "ramais_tdm_agreg = ramais_tdm.groupby(['ESTACAO','DISPOSITIVO'])['RAMAL'].nunique().reset_index(name='QUANTIDADE')"
   ]
  },
  {
   "cell_type": "markdown",
   "metadata": {},
   "source": [
    "### Criação das tabelas do staging"
   ]
  },
  {
   "cell_type": "markdown",
   "metadata": {},
   "source": [
    "#### Dispositivos Distintos"
   ]
  },
  {
   "cell_type": "code",
   "execution_count": null,
   "metadata": {},
   "outputs": [],
   "source": [
    "#Concatena os os dados agregados de dispositivos IP e TDM\n",
    "dispositivos_distintos_agreg = pd.concat([ramais_ip_agreg,ramais_tdm_agreg])\n",
    "\n",
    "#Cria coluna com a respectiva semana\n",
    "dispositivos_distintos_agreg['SEMANA']=\"2021/06/01\"\n",
    "\n",
    "#Cria CSV com dados de dispositivos distintos\n",
    "dispositivos_distintos_agreg.to_csv('DispositivosDistintos-2021_06.csv',index=False)\n",
    "\n",
    "ramais_agreg.head()"
   ]
  },
  {
   "cell_type": "markdown",
   "metadata": {},
   "source": [
    "#### Ramais Distintos"
   ]
  },
  {
   "cell_type": "code",
   "execution_count": null,
   "metadata": {
    "scrolled": true
   },
   "outputs": [],
   "source": [
    "#Concatena os dados agregados de ramais IP e TDM\n",
    "IP = ramais_IP_distintos_agreg.copy()\n",
    "IP.rename(columns={\"QUANTIDADE\": \"QUANT_IP\"}, inplace=True)\n",
    "\n",
    "TDM = ramais_tdm_agreg.groupby(['ESTACAO']).sum().reset_index()\n",
    "TDM.rename(columns={\"QUANTIDADE\": \"QUANT_TDM\"}, inplace=True)\n",
    "\n",
    "ramais_distintos_agreg = pd.merge(IP, TDM, on='ESTACAO', how='outer').fillna(0)\n",
    "ramais_distintos_agreg = ramais_distintos_agreg.astype({'QUANT_IP': 'int32', 'QUANT_TDM' : 'int32'})\n",
    "\n",
    "#Cria coluna com a respectiva semana\n",
    "ramais_distintos_agreg['SEMANA'] = '2021/06/01'\n",
    "\n",
    "#Cria CSV com dados de ramais distintos\n",
    "ramais_distintos_agreg.to_csv('RamaisDistintos-2021_06.csv',index=False)\n",
    "\n",
    "ramais_distintos_agreg.head()"
   ]
  }
 ],
 "metadata": {
  "kernelspec": {
   "display_name": "Python 3",
   "language": "python",
   "name": "python3"
  },
  "language_info": {
   "codemirror_mode": {
    "name": "ipython",
    "version": 3
   },
   "file_extension": ".py",
   "mimetype": "text/x-python",
   "name": "python",
   "nbconvert_exporter": "python",
   "pygments_lexer": "ipython3",
   "version": "3.6.4"
  }
 },
 "nbformat": 4,
 "nbformat_minor": 2
}
